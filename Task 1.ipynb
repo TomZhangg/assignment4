{
 "cells": [
  {
   "cell_type": "markdown",
   "metadata": {},
   "source": [
    "# Task 1"
   ]
  },
  {
   "cell_type": "code",
   "execution_count": 4,
   "metadata": {},
   "outputs": [],
   "source": [
    "import pandas as pd\n",
    "import numpy as np\n",
    "from sklearn.compose import ColumnTransformer\n",
    "from sklearn.pipeline import Pipeline\n",
    "from sklearn.pipeline import make_pipeline\n",
    "\n",
    "from sklearn.preprocessing import StandardScaler, LabelEncoder\n",
    "from sklearn.model_selection import train_test_split, cross_val_score, GridSearchCV\n",
    "from sklearn.linear_model import Ridge, Lasso, ElasticNet, LinearRegression, LogisticRegression\n",
    "from sklearn.compose import make_column_transformer\n",
    "from sklearn.ensemble import RandomForestRegressor, GradientBoostingRegressor, ExtraTreesRegressor"
   ]
  },
  {
   "cell_type": "code",
   "execution_count": 5,
   "metadata": {},
   "outputs": [
    {
     "data": {
      "text/html": [
       "<div>\n",
       "<style scoped>\n",
       "    .dataframe tbody tr th:only-of-type {\n",
       "        vertical-align: middle;\n",
       "    }\n",
       "\n",
       "    .dataframe tbody tr th {\n",
       "        vertical-align: top;\n",
       "    }\n",
       "\n",
       "    .dataframe thead th {\n",
       "        text-align: right;\n",
       "    }\n",
       "</style>\n",
       "<table border=\"1\" class=\"dataframe\">\n",
       "  <thead>\n",
       "    <tr style=\"text-align: right;\">\n",
       "      <th></th>\n",
       "      <th>Unnamed: 0</th>\n",
       "      <th>country</th>\n",
       "      <th>description</th>\n",
       "      <th>designation</th>\n",
       "      <th>points</th>\n",
       "      <th>price</th>\n",
       "      <th>province</th>\n",
       "      <th>region_1</th>\n",
       "      <th>region_2</th>\n",
       "      <th>taster_name</th>\n",
       "      <th>taster_twitter_handle</th>\n",
       "      <th>title</th>\n",
       "      <th>variety</th>\n",
       "      <th>winery</th>\n",
       "    </tr>\n",
       "  </thead>\n",
       "  <tbody>\n",
       "    <tr>\n",
       "      <th>0</th>\n",
       "      <td>0</td>\n",
       "      <td>Italy</td>\n",
       "      <td>Aromas include tropical fruit, broom, brimston...</td>\n",
       "      <td>Vulkà Bianco</td>\n",
       "      <td>87</td>\n",
       "      <td>NaN</td>\n",
       "      <td>Sicily &amp; Sardinia</td>\n",
       "      <td>Etna</td>\n",
       "      <td>NaN</td>\n",
       "      <td>Kerin O’Keefe</td>\n",
       "      <td>@kerinokeefe</td>\n",
       "      <td>Nicosia 2013 Vulkà Bianco  (Etna)</td>\n",
       "      <td>White Blend</td>\n",
       "      <td>Nicosia</td>\n",
       "    </tr>\n",
       "    <tr>\n",
       "      <th>1</th>\n",
       "      <td>1</td>\n",
       "      <td>Portugal</td>\n",
       "      <td>This is ripe and fruity, a wine that is smooth...</td>\n",
       "      <td>Avidagos</td>\n",
       "      <td>87</td>\n",
       "      <td>15.0</td>\n",
       "      <td>Douro</td>\n",
       "      <td>NaN</td>\n",
       "      <td>NaN</td>\n",
       "      <td>Roger Voss</td>\n",
       "      <td>@vossroger</td>\n",
       "      <td>Quinta dos Avidagos 2011 Avidagos Red (Douro)</td>\n",
       "      <td>Portuguese Red</td>\n",
       "      <td>Quinta dos Avidagos</td>\n",
       "    </tr>\n",
       "    <tr>\n",
       "      <th>2</th>\n",
       "      <td>2</td>\n",
       "      <td>US</td>\n",
       "      <td>Tart and snappy, the flavors of lime flesh and...</td>\n",
       "      <td>NaN</td>\n",
       "      <td>87</td>\n",
       "      <td>14.0</td>\n",
       "      <td>Oregon</td>\n",
       "      <td>Willamette Valley</td>\n",
       "      <td>Willamette Valley</td>\n",
       "      <td>Paul Gregutt</td>\n",
       "      <td>@paulgwine</td>\n",
       "      <td>Rainstorm 2013 Pinot Gris (Willamette Valley)</td>\n",
       "      <td>Pinot Gris</td>\n",
       "      <td>Rainstorm</td>\n",
       "    </tr>\n",
       "    <tr>\n",
       "      <th>3</th>\n",
       "      <td>3</td>\n",
       "      <td>US</td>\n",
       "      <td>Pineapple rind, lemon pith and orange blossom ...</td>\n",
       "      <td>Reserve Late Harvest</td>\n",
       "      <td>87</td>\n",
       "      <td>13.0</td>\n",
       "      <td>Michigan</td>\n",
       "      <td>Lake Michigan Shore</td>\n",
       "      <td>NaN</td>\n",
       "      <td>Alexander Peartree</td>\n",
       "      <td>NaN</td>\n",
       "      <td>St. Julian 2013 Reserve Late Harvest Riesling ...</td>\n",
       "      <td>Riesling</td>\n",
       "      <td>St. Julian</td>\n",
       "    </tr>\n",
       "    <tr>\n",
       "      <th>4</th>\n",
       "      <td>4</td>\n",
       "      <td>US</td>\n",
       "      <td>Much like the regular bottling from 2012, this...</td>\n",
       "      <td>Vintner's Reserve Wild Child Block</td>\n",
       "      <td>87</td>\n",
       "      <td>65.0</td>\n",
       "      <td>Oregon</td>\n",
       "      <td>Willamette Valley</td>\n",
       "      <td>Willamette Valley</td>\n",
       "      <td>Paul Gregutt</td>\n",
       "      <td>@paulgwine</td>\n",
       "      <td>Sweet Cheeks 2012 Vintner's Reserve Wild Child...</td>\n",
       "      <td>Pinot Noir</td>\n",
       "      <td>Sweet Cheeks</td>\n",
       "    </tr>\n",
       "  </tbody>\n",
       "</table>\n",
       "</div>"
      ],
      "text/plain": [
       "   Unnamed: 0   country                                        description  \\\n",
       "0           0     Italy  Aromas include tropical fruit, broom, brimston...   \n",
       "1           1  Portugal  This is ripe and fruity, a wine that is smooth...   \n",
       "2           2        US  Tart and snappy, the flavors of lime flesh and...   \n",
       "3           3        US  Pineapple rind, lemon pith and orange blossom ...   \n",
       "4           4        US  Much like the regular bottling from 2012, this...   \n",
       "\n",
       "                          designation  points  price           province  \\\n",
       "0                        Vulkà Bianco      87    NaN  Sicily & Sardinia   \n",
       "1                            Avidagos      87   15.0              Douro   \n",
       "2                                 NaN      87   14.0             Oregon   \n",
       "3                Reserve Late Harvest      87   13.0           Michigan   \n",
       "4  Vintner's Reserve Wild Child Block      87   65.0             Oregon   \n",
       "\n",
       "              region_1           region_2         taster_name  \\\n",
       "0                 Etna                NaN       Kerin O’Keefe   \n",
       "1                  NaN                NaN          Roger Voss   \n",
       "2    Willamette Valley  Willamette Valley        Paul Gregutt   \n",
       "3  Lake Michigan Shore                NaN  Alexander Peartree   \n",
       "4    Willamette Valley  Willamette Valley        Paul Gregutt   \n",
       "\n",
       "  taster_twitter_handle                                              title  \\\n",
       "0          @kerinokeefe                  Nicosia 2013 Vulkà Bianco  (Etna)   \n",
       "1            @vossroger      Quinta dos Avidagos 2011 Avidagos Red (Douro)   \n",
       "2           @paulgwine       Rainstorm 2013 Pinot Gris (Willamette Valley)   \n",
       "3                   NaN  St. Julian 2013 Reserve Late Harvest Riesling ...   \n",
       "4           @paulgwine   Sweet Cheeks 2012 Vintner's Reserve Wild Child...   \n",
       "\n",
       "          variety               winery  \n",
       "0     White Blend              Nicosia  \n",
       "1  Portuguese Red  Quinta dos Avidagos  \n",
       "2      Pinot Gris            Rainstorm  \n",
       "3        Riesling           St. Julian  \n",
       "4      Pinot Noir         Sweet Cheeks  "
      ]
     },
     "execution_count": 5,
     "metadata": {},
     "output_type": "execute_result"
    }
   ],
   "source": [
    "df = pd.read_csv(\"./data/winemag-data-130k-v2.csv\")\n",
    "df.head()"
   ]
  },
  {
   "cell_type": "markdown",
   "metadata": {},
   "source": [
    "## Initial cleaning for overall use"
   ]
  },
  {
   "cell_type": "markdown",
   "metadata": {},
   "source": [
    "Before starting, we clean the data for use throughout the project. Tasks 1.1 and 1.2 differ in requirements, so we will clean each in different ways. However, both tasks will benefit from removing duplicates and dropping rows with missing values. We chose to drop rows with missing values instead of imputing based on past experience.\n",
    "\n",
    "The original data had no duplicates, so our cleaned data baseline deals with removing null values and dropping columns that we are fairly confident will not be very important for any tasks. Since the name and Twitter handle of the evaluater likely has little to do with the wine itself, we dropped these columns. Because more than half of the samples were missing information for region_2, we decided to exclude this column instead of omitting a considerable amount of data."
   ]
  },
  {
   "cell_type": "code",
   "execution_count": 6,
   "metadata": {},
   "outputs": [
    {
     "name": "stdout",
     "output_type": "stream",
     "text": [
      "entries before dropping dups:  54504\n",
      "entries after dropping dups:   54504\n"
     ]
    },
    {
     "data": {
      "text/plain": [
       "Unnamed: 0         0\n",
       "country            0\n",
       "description        0\n",
       "designation    17596\n",
       "points             0\n",
       "price            239\n",
       "province           0\n",
       "region_1         278\n",
       "title              0\n",
       "variety            0\n",
       "winery             0\n",
       "dtype: int64"
      ]
     },
     "execution_count": 6,
     "metadata": {},
     "output_type": "execute_result"
    }
   ],
   "source": [
    "# only keep US samples\n",
    "df = df[df.country == \"US\"]\n",
    "\n",
    "\n",
    "# duplicates\n",
    "print(\"entries before dropping dups: \", len(df))\n",
    "clean = df.drop_duplicates(['Unnamed: 0'])\n",
    "print(\"entries after dropping dups:  \", len(df))\n",
    "\n",
    "# dropping unimportant features\n",
    "drop_features = [\"taster_name\", \"taster_twitter_handle\", \"region_2\"]\n",
    "clean = clean.drop(drop_features, axis=1)\n",
    "\n",
    "# dropping rows with null values\n",
    "clean.isnull().sum()"
   ]
  },
  {
   "cell_type": "code",
   "execution_count": 7,
   "metadata": {},
   "outputs": [
    {
     "data": {
      "text/plain": [
       "Unnamed: 0     0\n",
       "country        0\n",
       "description    0\n",
       "designation    0\n",
       "points         0\n",
       "price          0\n",
       "province       0\n",
       "region_1       0\n",
       "title          0\n",
       "variety        0\n",
       "winery         0\n",
       "dtype: int64"
      ]
     },
     "execution_count": 7,
     "metadata": {},
     "output_type": "execute_result"
    }
   ],
   "source": [
    "clean = clean.dropna()\n",
    "clean.isnull().sum()"
   ]
  },
  {
   "cell_type": "code",
   "execution_count": 8,
   "metadata": {},
   "outputs": [],
   "source": [
    "clean.to_csv('./wine_clean.csv', index=False)"
   ]
  },
  {
   "cell_type": "markdown",
   "metadata": {},
   "source": [
    "## 1.1 Create a baseline model for predicting wine quality using only non-text features."
   ]
  },
  {
   "cell_type": "code",
   "execution_count": 9,
   "metadata": {},
   "outputs": [
    {
     "data": {
      "text/plain": [
       "Index(['country', 'designation', 'points', 'price', 'province', 'region_1',\n",
       "       'variety', 'winery'],\n",
       "      dtype='object')"
      ]
     },
     "execution_count": 9,
     "metadata": {},
     "output_type": "execute_result"
    }
   ],
   "source": [
    "t1_drop = ['Unnamed: 0', 'description', 'title']\n",
    "clean_t1 = clean.drop(t1_drop, axis=1)\n",
    "clean_t1.columns"
   ]
  },
  {
   "cell_type": "markdown",
   "metadata": {},
   "source": [
    "This task asks us to only use non-text features, so we can drop the text description of the wine and the title of the review. "
   ]
  },
  {
   "cell_type": "code",
   "execution_count": 10,
   "metadata": {},
   "outputs": [
    {
     "name": "stdout",
     "output_type": "stream",
     "text": [
      "total samples:  36558\n",
      "country :  1\n",
      "designation :  14063\n",
      "points :  21\n",
      "price :  159\n",
      "province :  25\n",
      "region_1 :  253\n",
      "variety :  231\n",
      "winery :  4022\n"
     ]
    }
   ],
   "source": [
    "print(\"total samples: \", clean_t1['country'].count())\n",
    "for c in clean_t1.columns:\n",
    "    print(c, \": \", clean_t1[c].nunique())\n"
   ]
  },
  {
   "cell_type": "markdown",
   "metadata": {},
   "source": [
    "Out of approximately 70K samples, there are 14K unique values for 'designation' and 4 for 'winery'. Though the vineyard and winery from might provide useful information for prediction, because there are so many possible values we'll drop these columns. This may be a choice we revisit after scoring the model. Since we are only considering wines from the US, we can also drop 'country'."
   ]
  },
  {
   "cell_type": "code",
   "execution_count": 11,
   "metadata": {},
   "outputs": [],
   "source": [
    "clean_t1 = clean_t1.drop('designation', axis=1)\n",
    "clean_t1 = clean_t1.drop('winery', axis=1)\n",
    "clean_t1 = clean_t1.drop('country', axis=1)\n"
   ]
  },
  {
   "cell_type": "code",
   "execution_count": 12,
   "metadata": {},
   "outputs": [],
   "source": [
    "clean_t1 = pd.get_dummies(clean_t1)"
   ]
  },
  {
   "cell_type": "code",
   "execution_count": 13,
   "metadata": {},
   "outputs": [
    {
     "data": {
      "text/html": [
       "<div>\n",
       "<style scoped>\n",
       "    .dataframe tbody tr th:only-of-type {\n",
       "        vertical-align: middle;\n",
       "    }\n",
       "\n",
       "    .dataframe tbody tr th {\n",
       "        vertical-align: top;\n",
       "    }\n",
       "\n",
       "    .dataframe thead th {\n",
       "        text-align: right;\n",
       "    }\n",
       "</style>\n",
       "<table border=\"1\" class=\"dataframe\">\n",
       "  <thead>\n",
       "    <tr style=\"text-align: right;\">\n",
       "      <th></th>\n",
       "      <th>points</th>\n",
       "      <th>price</th>\n",
       "      <th>province_Arizona</th>\n",
       "      <th>province_California</th>\n",
       "      <th>province_Colorado</th>\n",
       "      <th>province_Connecticut</th>\n",
       "      <th>province_Hawaii</th>\n",
       "      <th>province_Idaho</th>\n",
       "      <th>province_Illinois</th>\n",
       "      <th>province_Iowa</th>\n",
       "      <th>...</th>\n",
       "      <th>variety_Vignoles</th>\n",
       "      <th>variety_Viognier</th>\n",
       "      <th>variety_Viognier-Chardonnay</th>\n",
       "      <th>variety_Viognier-Gewürztraminer</th>\n",
       "      <th>variety_Viognier-Roussanne</th>\n",
       "      <th>variety_White Blend</th>\n",
       "      <th>variety_White Port</th>\n",
       "      <th>variety_White Riesling</th>\n",
       "      <th>variety_Zinfandel</th>\n",
       "      <th>variety_Zweigelt</th>\n",
       "    </tr>\n",
       "  </thead>\n",
       "  <tbody>\n",
       "    <tr>\n",
       "      <th>3</th>\n",
       "      <td>87</td>\n",
       "      <td>13.0</td>\n",
       "      <td>0</td>\n",
       "      <td>0</td>\n",
       "      <td>0</td>\n",
       "      <td>0</td>\n",
       "      <td>0</td>\n",
       "      <td>0</td>\n",
       "      <td>0</td>\n",
       "      <td>0</td>\n",
       "      <td>...</td>\n",
       "      <td>0</td>\n",
       "      <td>0</td>\n",
       "      <td>0</td>\n",
       "      <td>0</td>\n",
       "      <td>0</td>\n",
       "      <td>0</td>\n",
       "      <td>0</td>\n",
       "      <td>0</td>\n",
       "      <td>0</td>\n",
       "      <td>0</td>\n",
       "    </tr>\n",
       "    <tr>\n",
       "      <th>4</th>\n",
       "      <td>87</td>\n",
       "      <td>65.0</td>\n",
       "      <td>0</td>\n",
       "      <td>0</td>\n",
       "      <td>0</td>\n",
       "      <td>0</td>\n",
       "      <td>0</td>\n",
       "      <td>0</td>\n",
       "      <td>0</td>\n",
       "      <td>0</td>\n",
       "      <td>...</td>\n",
       "      <td>0</td>\n",
       "      <td>0</td>\n",
       "      <td>0</td>\n",
       "      <td>0</td>\n",
       "      <td>0</td>\n",
       "      <td>0</td>\n",
       "      <td>0</td>\n",
       "      <td>0</td>\n",
       "      <td>0</td>\n",
       "      <td>0</td>\n",
       "    </tr>\n",
       "    <tr>\n",
       "      <th>10</th>\n",
       "      <td>87</td>\n",
       "      <td>19.0</td>\n",
       "      <td>0</td>\n",
       "      <td>1</td>\n",
       "      <td>0</td>\n",
       "      <td>0</td>\n",
       "      <td>0</td>\n",
       "      <td>0</td>\n",
       "      <td>0</td>\n",
       "      <td>0</td>\n",
       "      <td>...</td>\n",
       "      <td>0</td>\n",
       "      <td>0</td>\n",
       "      <td>0</td>\n",
       "      <td>0</td>\n",
       "      <td>0</td>\n",
       "      <td>0</td>\n",
       "      <td>0</td>\n",
       "      <td>0</td>\n",
       "      <td>0</td>\n",
       "      <td>0</td>\n",
       "    </tr>\n",
       "    <tr>\n",
       "      <th>20</th>\n",
       "      <td>87</td>\n",
       "      <td>23.0</td>\n",
       "      <td>0</td>\n",
       "      <td>0</td>\n",
       "      <td>0</td>\n",
       "      <td>0</td>\n",
       "      <td>0</td>\n",
       "      <td>0</td>\n",
       "      <td>0</td>\n",
       "      <td>0</td>\n",
       "      <td>...</td>\n",
       "      <td>0</td>\n",
       "      <td>0</td>\n",
       "      <td>0</td>\n",
       "      <td>0</td>\n",
       "      <td>0</td>\n",
       "      <td>0</td>\n",
       "      <td>0</td>\n",
       "      <td>0</td>\n",
       "      <td>0</td>\n",
       "      <td>0</td>\n",
       "    </tr>\n",
       "    <tr>\n",
       "      <th>23</th>\n",
       "      <td>87</td>\n",
       "      <td>22.0</td>\n",
       "      <td>0</td>\n",
       "      <td>1</td>\n",
       "      <td>0</td>\n",
       "      <td>0</td>\n",
       "      <td>0</td>\n",
       "      <td>0</td>\n",
       "      <td>0</td>\n",
       "      <td>0</td>\n",
       "      <td>...</td>\n",
       "      <td>0</td>\n",
       "      <td>0</td>\n",
       "      <td>0</td>\n",
       "      <td>0</td>\n",
       "      <td>0</td>\n",
       "      <td>0</td>\n",
       "      <td>0</td>\n",
       "      <td>0</td>\n",
       "      <td>0</td>\n",
       "      <td>0</td>\n",
       "    </tr>\n",
       "  </tbody>\n",
       "</table>\n",
       "<p>5 rows × 511 columns</p>\n",
       "</div>"
      ],
      "text/plain": [
       "    points  price  province_Arizona  province_California  province_Colorado  \\\n",
       "3       87   13.0                 0                    0                  0   \n",
       "4       87   65.0                 0                    0                  0   \n",
       "10      87   19.0                 0                    1                  0   \n",
       "20      87   23.0                 0                    0                  0   \n",
       "23      87   22.0                 0                    1                  0   \n",
       "\n",
       "    province_Connecticut  province_Hawaii  province_Idaho  province_Illinois  \\\n",
       "3                      0                0               0                  0   \n",
       "4                      0                0               0                  0   \n",
       "10                     0                0               0                  0   \n",
       "20                     0                0               0                  0   \n",
       "23                     0                0               0                  0   \n",
       "\n",
       "    province_Iowa  ...  variety_Vignoles  variety_Viognier  \\\n",
       "3               0  ...                 0                 0   \n",
       "4               0  ...                 0                 0   \n",
       "10              0  ...                 0                 0   \n",
       "20              0  ...                 0                 0   \n",
       "23              0  ...                 0                 0   \n",
       "\n",
       "    variety_Viognier-Chardonnay  variety_Viognier-Gewürztraminer  \\\n",
       "3                             0                                0   \n",
       "4                             0                                0   \n",
       "10                            0                                0   \n",
       "20                            0                                0   \n",
       "23                            0                                0   \n",
       "\n",
       "    variety_Viognier-Roussanne  variety_White Blend  variety_White Port  \\\n",
       "3                            0                    0                   0   \n",
       "4                            0                    0                   0   \n",
       "10                           0                    0                   0   \n",
       "20                           0                    0                   0   \n",
       "23                           0                    0                   0   \n",
       "\n",
       "    variety_White Riesling  variety_Zinfandel  variety_Zweigelt  \n",
       "3                        0                  0                 0  \n",
       "4                        0                  0                 0  \n",
       "10                       0                  0                 0  \n",
       "20                       0                  0                 0  \n",
       "23                       0                  0                 0  \n",
       "\n",
       "[5 rows x 511 columns]"
      ]
     },
     "execution_count": 13,
     "metadata": {},
     "output_type": "execute_result"
    }
   ],
   "source": [
    "clean_t1.head()"
   ]
  },
  {
   "cell_type": "code",
   "execution_count": 14,
   "metadata": {},
   "outputs": [],
   "source": [
    "features = clean_t1.columns.tolist()\n",
    "features.remove('points')\n",
    "\n",
    "X = clean_t1[features]\n",
    "y = clean_t1['points']\n",
    "X_train, X_test, y_train, y_test = train_test_split(X, y)"
   ]
  },
  {
   "cell_type": "code",
   "execution_count": 15,
   "metadata": {},
   "outputs": [
    {
     "data": {
      "text/plain": [
       "0.33843173459922193"
      ]
     },
     "execution_count": 15,
     "metadata": {},
     "output_type": "execute_result"
    }
   ],
   "source": [
    "np.mean(cross_val_score(GradientBoostingRegressor(loss='ls', n_estimators=100), X_train, y_train, cv=5))"
   ]
  },
  {
   "cell_type": "code",
   "execution_count": 16,
   "metadata": {},
   "outputs": [
    {
     "name": "stdout",
     "output_type": "stream",
     "text": [
      "Best Estimator:  Lasso(alpha=0.01, copy_X=True, fit_intercept=True, max_iter=1000,\n",
      "      normalize=False, positive=False, precompute=False, random_state=None,\n",
      "      selection='cyclic', tol=0.0001, warm_start=False)\n"
     ]
    }
   ],
   "source": [
    "reg = Pipeline(steps=[('scaler', StandardScaler()),\n",
    " ('regressor', LinearRegression())])\n",
    "\n",
    "param_grid = {'regressor': [Ridge(), Lasso(), ElasticNet()],\n",
    " 'regressor__alpha': np.logspace(-3, 3, 7)}\n",
    "grid = GridSearchCV(reg, param_grid, cv=5)\n",
    "grid.fit(X_train, y_train)\n",
    "print(\"Best Estimator: \", grid.best_estimator_[1])"
   ]
  },
  {
   "cell_type": "code",
   "execution_count": 17,
   "metadata": {},
   "outputs": [
    {
     "name": "stdout",
     "output_type": "stream",
     "text": [
      "Best Score:  0.2705535224858449\n"
     ]
    }
   ],
   "source": [
    "print(\"Best Score: \", grid.best_score_)"
   ]
  },
  {
   "cell_type": "markdown",
   "metadata": {},
   "source": [
    "With GB and Lasso as some baseline models trained on non-text features only, our accuracy is around 30%. This might be because the quality of a wine can't necessarily be determined soley on where it's made and what it's made of. The wines of a certain vineyard will not always be predictably better than the wines of another; a pinot noir is not always better than a chardonnay. To more accurately predict the quality of the wine, we'll need text data that reflects how wine enthusiasts receive it."
   ]
  },
  {
   "cell_type": "markdown",
   "metadata": {},
   "source": [
    "## 1.2 Create a simple text-based model using a bag-of-words approach and a linear model."
   ]
  },
  {
   "cell_type": "markdown",
   "metadata": {},
   "source": [
    "We'll start back with our baseline cleaned data which removed duplicates and rows with missing values. The features can be seen below."
   ]
  },
  {
   "cell_type": "code",
   "execution_count": 18,
   "metadata": {},
   "outputs": [
    {
     "data": {
      "text/html": [
       "<div>\n",
       "<style scoped>\n",
       "    .dataframe tbody tr th:only-of-type {\n",
       "        vertical-align: middle;\n",
       "    }\n",
       "\n",
       "    .dataframe tbody tr th {\n",
       "        vertical-align: top;\n",
       "    }\n",
       "\n",
       "    .dataframe thead th {\n",
       "        text-align: right;\n",
       "    }\n",
       "</style>\n",
       "<table border=\"1\" class=\"dataframe\">\n",
       "  <thead>\n",
       "    <tr style=\"text-align: right;\">\n",
       "      <th></th>\n",
       "      <th>Unnamed: 0</th>\n",
       "      <th>country</th>\n",
       "      <th>description</th>\n",
       "      <th>designation</th>\n",
       "      <th>points</th>\n",
       "      <th>price</th>\n",
       "      <th>province</th>\n",
       "      <th>region_1</th>\n",
       "      <th>title</th>\n",
       "      <th>variety</th>\n",
       "      <th>winery</th>\n",
       "    </tr>\n",
       "  </thead>\n",
       "  <tbody>\n",
       "    <tr>\n",
       "      <th>3</th>\n",
       "      <td>3</td>\n",
       "      <td>US</td>\n",
       "      <td>Pineapple rind, lemon pith and orange blossom ...</td>\n",
       "      <td>Reserve Late Harvest</td>\n",
       "      <td>87</td>\n",
       "      <td>13.0</td>\n",
       "      <td>Michigan</td>\n",
       "      <td>Lake Michigan Shore</td>\n",
       "      <td>St. Julian 2013 Reserve Late Harvest Riesling ...</td>\n",
       "      <td>Riesling</td>\n",
       "      <td>St. Julian</td>\n",
       "    </tr>\n",
       "    <tr>\n",
       "      <th>4</th>\n",
       "      <td>4</td>\n",
       "      <td>US</td>\n",
       "      <td>Much like the regular bottling from 2012, this...</td>\n",
       "      <td>Vintner's Reserve Wild Child Block</td>\n",
       "      <td>87</td>\n",
       "      <td>65.0</td>\n",
       "      <td>Oregon</td>\n",
       "      <td>Willamette Valley</td>\n",
       "      <td>Sweet Cheeks 2012 Vintner's Reserve Wild Child...</td>\n",
       "      <td>Pinot Noir</td>\n",
       "      <td>Sweet Cheeks</td>\n",
       "    </tr>\n",
       "    <tr>\n",
       "      <th>10</th>\n",
       "      <td>10</td>\n",
       "      <td>US</td>\n",
       "      <td>Soft, supple plum envelopes an oaky structure ...</td>\n",
       "      <td>Mountain Cuvée</td>\n",
       "      <td>87</td>\n",
       "      <td>19.0</td>\n",
       "      <td>California</td>\n",
       "      <td>Napa Valley</td>\n",
       "      <td>Kirkland Signature 2011 Mountain Cuvée Caberne...</td>\n",
       "      <td>Cabernet Sauvignon</td>\n",
       "      <td>Kirkland Signature</td>\n",
       "    </tr>\n",
       "    <tr>\n",
       "      <th>20</th>\n",
       "      <td>20</td>\n",
       "      <td>US</td>\n",
       "      <td>Ripe aromas of dark berries mingle with ample ...</td>\n",
       "      <td>Vin de Maison</td>\n",
       "      <td>87</td>\n",
       "      <td>23.0</td>\n",
       "      <td>Virginia</td>\n",
       "      <td>Virginia</td>\n",
       "      <td>Quiévremont 2012 Vin de Maison Red (Virginia)</td>\n",
       "      <td>Red Blend</td>\n",
       "      <td>Quiévremont</td>\n",
       "    </tr>\n",
       "    <tr>\n",
       "      <th>23</th>\n",
       "      <td>23</td>\n",
       "      <td>US</td>\n",
       "      <td>This wine from the Geneseo district offers aro...</td>\n",
       "      <td>Signature Selection</td>\n",
       "      <td>87</td>\n",
       "      <td>22.0</td>\n",
       "      <td>California</td>\n",
       "      <td>Paso Robles</td>\n",
       "      <td>Bianchi 2011 Signature Selection Merlot (Paso ...</td>\n",
       "      <td>Merlot</td>\n",
       "      <td>Bianchi</td>\n",
       "    </tr>\n",
       "  </tbody>\n",
       "</table>\n",
       "</div>"
      ],
      "text/plain": [
       "    Unnamed: 0 country                                        description  \\\n",
       "3            3      US  Pineapple rind, lemon pith and orange blossom ...   \n",
       "4            4      US  Much like the regular bottling from 2012, this...   \n",
       "10          10      US  Soft, supple plum envelopes an oaky structure ...   \n",
       "20          20      US  Ripe aromas of dark berries mingle with ample ...   \n",
       "23          23      US  This wine from the Geneseo district offers aro...   \n",
       "\n",
       "                           designation  points  price    province  \\\n",
       "3                 Reserve Late Harvest      87   13.0    Michigan   \n",
       "4   Vintner's Reserve Wild Child Block      87   65.0      Oregon   \n",
       "10                      Mountain Cuvée      87   19.0  California   \n",
       "20                       Vin de Maison      87   23.0    Virginia   \n",
       "23                 Signature Selection      87   22.0  California   \n",
       "\n",
       "               region_1                                              title  \\\n",
       "3   Lake Michigan Shore  St. Julian 2013 Reserve Late Harvest Riesling ...   \n",
       "4     Willamette Valley  Sweet Cheeks 2012 Vintner's Reserve Wild Child...   \n",
       "10          Napa Valley  Kirkland Signature 2011 Mountain Cuvée Caberne...   \n",
       "20             Virginia      Quiévremont 2012 Vin de Maison Red (Virginia)   \n",
       "23          Paso Robles  Bianchi 2011 Signature Selection Merlot (Paso ...   \n",
       "\n",
       "               variety              winery  \n",
       "3             Riesling          St. Julian  \n",
       "4           Pinot Noir        Sweet Cheeks  \n",
       "10  Cabernet Sauvignon  Kirkland Signature  \n",
       "20           Red Blend         Quiévremont  \n",
       "23              Merlot             Bianchi  "
      ]
     },
     "execution_count": 18,
     "metadata": {},
     "output_type": "execute_result"
    }
   ],
   "source": [
    "clean.head()"
   ]
  },
  {
   "cell_type": "code",
   "execution_count": 19,
   "metadata": {},
   "outputs": [],
   "source": [
    "from sklearn.feature_extraction.text import CountVectorizer\n",
    "from sklearn.linear_model import LogisticRegressionCV\n"
   ]
  },
  {
   "cell_type": "markdown",
   "metadata": {},
   "source": [
    "We'll use description and title for our bag of words model, and we'll concatenate them into the same column."
   ]
  },
  {
   "cell_type": "code",
   "execution_count": 20,
   "metadata": {},
   "outputs": [],
   "source": [
    "desc = clean['description'].tolist()\n",
    "title = clean['title'].tolist()\n",
    "data = [i + j for i, j in zip(desc, title)] \n",
    "    \n",
    "target = clean['points'].tolist()\n",
    "text_trainval, y_trainval = data, target"
   ]
  },
  {
   "cell_type": "code",
   "execution_count": 21,
   "metadata": {},
   "outputs": [
    {
     "name": "stdout",
     "output_type": "stream",
     "text": [
      "type of text_train:  <class 'list'>\n",
      "length of text_train:  36558\n"
     ]
    }
   ],
   "source": [
    "print(\"type of text_train: \", type(text_trainval))\n",
    "print(\"length of text_train: \", len(text_trainval))"
   ]
  },
  {
   "cell_type": "code",
   "execution_count": 22,
   "metadata": {},
   "outputs": [
    {
     "data": {
      "text/plain": [
       "<27418x21560 sparse matrix of type '<class 'numpy.int64'>'\n",
       "\twith 1194151 stored elements in Compressed Sparse Row format>"
      ]
     },
     "execution_count": 22,
     "metadata": {},
     "output_type": "execute_result"
    }
   ],
   "source": [
    "text_train, text_val, y_train, y_val = train_test_split(\n",
    "    text_trainval, y_trainval, stratify=y_trainval, random_state=0)\n",
    "vect = CountVectorizer()\n",
    "X_train = vect.fit_transform(text_train)\n",
    "X_val = vect.transform(text_val)\n",
    "X_train"
   ]
  },
  {
   "cell_type": "code",
   "execution_count": 23,
   "metadata": {},
   "outputs": [
    {
     "name": "stdout",
     "output_type": "stream",
     "text": [
      "['000', '2000', '554', 'accurately', 'ago', 'amarone', 'anticipate', 'armida', 'au', 'balled', 'beaureagard', 'bethany', 'bloody', 'botticelli', 'briggs', 'bullhorn', 'caliber', 'carlton', 'centennial', 'cheese', 'cinquain', 'coatings', 'complejo', 'constrained', 'coteaux', 'crocker', 'dacon', 'declines', 'designations', 'discloses', 'dornfelder', 'durif', 'eleganty', 'enkidu', 'estrella', 'explosively', 'fault', 'finished', 'flowers', 'frances', 'fuse', 'gestalt', 'gooseberries', 'gripped', 'handrails', 'heins', 'holes', 'hélène', 'increasingly', 'interfere', 'jammiest', 'juiciness', 'kim', 'laker', 'leelanau', 'limitation', 'loosened', 'machado', 'mari', 'mayo', 'merit', 'mirassou', 'moraine', 'mustiness', 'never', 'nourished', 'okay', 'ouest', 'pagnano', 'patience', 'perfected', 'pin', 'plungerhead', 'pouring', 'pro', 'punchdown', 'raiding', 'recreate', 'replay', 'rhônes', 'rockroom', 'rule', 'sant', 'scopus', 'senility', 'shelton', 'silverwood', 'slither', 'soléna', 'spices', 'staring', 'stops', 'subtleties', 'surfboard', 'tailgating', 'tehama', 'thile', 'tobaccoey', 'transformative', 'tuna', 'underlaid', 'untangle', 'veggies', 'vinicultores', 'walls', 'wheel', 'wishing', 'yetsomewhat']\n"
     ]
    }
   ],
   "source": [
    "feature_names = vect.get_feature_names()\n",
    "print(feature_names[::200])\n"
   ]
  },
  {
   "cell_type": "code",
   "execution_count": 24,
   "metadata": {},
   "outputs": [
    {
     "data": {
      "text/plain": [
       "0.5234095030126218"
      ]
     },
     "execution_count": 24,
     "metadata": {},
     "output_type": "execute_result"
    }
   ],
   "source": [
    "reg = Pipeline(steps=[('scaler', StandardScaler(with_mean=False)),\n",
    " ('regressor', Ridge(alpha=1000))])\n",
    "np.mean(cross_val_score(reg, X_train, y_train, cv=5))"
   ]
  },
  {
   "cell_type": "markdown",
   "metadata": {},
   "source": [
    "Per Prof. Mueller's suggestion on Piazza, we used Ridge for our linear model alongside our bag of words approach. Our cross validation score was 54%, which is better than our baseline model, but still not great. This can likely be improved with TFIDF scaling and especially n-grams because our current model does not preserve much semantic meaning."
   ]
  },
  {
   "cell_type": "markdown",
   "metadata": {},
   "source": [
    "## 1.3 Try using n-grams, characters, tf-idf rescaling and possibly other ways to tune the BoW model. Be aware that you might need to adjust the (regularization of the) linear model for  different feature sets"
   ]
  },
  {
   "cell_type": "markdown",
   "metadata": {},
   "source": [
    "Before looking into n-grams, characters, and tf-idf, we can tune the BoW model in a simple way by including stop words and by setting minimum document frequency."
   ]
  },
  {
   "cell_type": "code",
   "execution_count": 25,
   "metadata": {},
   "outputs": [
    {
     "name": "stdout",
     "output_type": "stream",
     "text": [
      "stop words only:  0.5098111212436269\n",
      "minimum document frequency only:  0.6541313857409923\n",
      "both:  0.6429228649369435\n"
     ]
    }
   ],
   "source": [
    "vect_1 = CountVectorizer(stop_words='english')\n",
    "vect_2 = CountVectorizer(min_df=15)\n",
    "vect_3 = CountVectorizer(min_df=15, stop_words='english')\n",
    "X_train_tune1 = vect_1.fit_transform(text_train)\n",
    "X_train_tune2 = vect_2.fit_transform(text_train)\n",
    "X_train_tune3 = vect_3.fit_transform(text_train)\n",
    "\n",
    "\n",
    "reg = Pipeline(steps=[('scaler', StandardScaler(with_mean=False)),\n",
    " ('regressor', Ridge(alpha=1000))])\n",
    "print(\"stop words only: \", np.mean(cross_val_score(reg, X_train_tune1, y_train, cv=5)))\n",
    "print(\"minimum document frequency only: \", np.mean(cross_val_score(reg, X_train_tune2, y_train, cv=5)))\n",
    "print(\"both: \", np.mean(cross_val_score(reg, X_train_tune3, y_train, cv=5)))"
   ]
  },
  {
   "cell_type": "markdown",
   "metadata": {},
   "source": [
    "Tuning by just adding stopwords doesn't seem to improve the model, which is consistent with Prof. Mueller's note that stopwords tend to be less impactful in supervised learning. However, increasing min_df to 15 improved our accuracy from ~50% to ~70%. Combining stop_words with min_df=15 doesn't do better than min_df=15 on its own. This leads us to conclude that minimum document frequency is an important tuning parameter. This might be explained because many words can be used to describe wine. From the feature_names we extracted, we can see just the words describing taste range from \"tuna\" to \"gooseberries\" to \"veggies.\" There are so many words that can potentially describe wine, so it makes sense that only incredibly common ones will be important in predicting quality.\n",
    "\n",
    "We'll try TD-IDF next, continuing to include stop words and limit by document frequency:"
   ]
  },
  {
   "cell_type": "code",
   "execution_count": 26,
   "metadata": {},
   "outputs": [
    {
     "name": "stdout",
     "output_type": "stream",
     "text": [
      "0.5304077413155303\n",
      "0.6671420305686425\n"
     ]
    }
   ],
   "source": [
    "from sklearn.feature_extraction.text import TfidfVectorizer, TfidfTransformer\n",
    "\n",
    "vectorizer = TfidfVectorizer()\n",
    "X = vectorizer.fit_transform(text_train)\n",
    "# print(vectorizer.get_feature_names())\n",
    "reg = Pipeline(steps=[('scaler', StandardScaler(with_mean=False)),\n",
    " ('regressor', Ridge(alpha=1000))])\n",
    "print(np.mean(cross_val_score(reg, X, y_train, cv=5)))\n",
    "\n",
    "vectorizer2 = TfidfVectorizer(min_df=20, stop_words='english')\n",
    "X2 = vectorizer2.fit_transform(text_train)\n",
    "print(np.mean(cross_val_score(reg, X2, y_train, cv=5)))\n"
   ]
  },
  {
   "cell_type": "markdown",
   "metadata": {},
   "source": [
    "TD-IDF seems to do little; we see that it scores the same as our original BoW model both with and without setting stopwords and min_df."
   ]
  },
  {
   "cell_type": "markdown",
   "metadata": {},
   "source": [
    "#### N-grams"
   ]
  },
  {
   "cell_type": "code",
   "execution_count": 27,
   "metadata": {},
   "outputs": [
    {
     "name": "stdout",
     "output_type": "stream",
     "text": [
      "0.6053031301536882\n"
     ]
    }
   ],
   "source": [
    "vect_ngram = CountVectorizer(ngram_range=(1, 4), min_df=20, stop_words='english')\n",
    "X_train_ngram = vect_ngram.fit_transform(text_train)\n",
    "\n",
    "reg2 = Pipeline(steps=[('scaler', StandardScaler(with_mean=False)),\n",
    " ('regressor', Ridge(alpha=1000))])\n",
    "print(np.mean(cross_val_score(reg2, X_train_ngram, y_train, cv=5)))"
   ]
  },
  {
   "cell_type": "code",
   "execution_count": 28,
   "metadata": {},
   "outputs": [
    {
     "name": "stdout",
     "output_type": "stream",
     "text": [
      "Vocabulary:\n",
      " ['000', '2014 red', 'adding complexity', 'apricot jam', 'barbecue', 'black cherry dark', 'blended', 'brilliant acidity', 'cadeau', 'chardonnay finger', 'chocolate smoky', 'combines', 'crisp green', 'delicious drink', 'drink rich', 'end', 'fade', 'flavors baked', 'floral note', 'fruit flavors wine', 'gradually', 'harvest wine', 'ignore', 'kendall', 'lemon orange', 'lohr', 'means', 'months new french oak', 'noir rosé willamette', 'offers ripe', 'patz', 'pinot noir arroyo', 'presence', 'raspberries', 'regular bottling', 'right', 'runs', 'savory', 'signature selection', 'softly tannic', 'state', 'sweet black', 'tannins need time', 'toasted', 'vanilla custard', 'vineyard reserve cabernet', 'wet rock', 'wine showing']\n"
     ]
    }
   ],
   "source": [
    "print(\"Vocabulary:\\n\", vect_ngram.get_feature_names()[::200])\n"
   ]
  },
  {
   "cell_type": "markdown",
   "metadata": {},
   "source": [
    "#### Characters"
   ]
  },
  {
   "cell_type": "code",
   "execution_count": 29,
   "metadata": {},
   "outputs": [
    {
     "name": "stdout",
     "output_type": "stream",
     "text": [
      "0.67964175240566\n"
     ]
    }
   ],
   "source": [
    "cv_char = CountVectorizer(ngram_range=(2, 3), analyzer=\"char_wb\", min_df=20, stop_words='english')\n",
    "X_train_char = cv_char.fit_transform(text_train)\n",
    "\n",
    "reg3 = Pipeline(steps=[('scaler', StandardScaler(with_mean=False)),\n",
    " ('regressor', Ridge(alpha=100))])\n",
    "print(np.mean(cross_val_score(reg2, X_train_char, y_train, cv=5)))\n"
   ]
  },
  {
   "cell_type": "markdown",
   "metadata": {},
   "source": [
    "## 1.4 Combine the non-text features and the text features. How does adding those features improve upon just using bag-of-words?"
   ]
  },
  {
   "cell_type": "markdown",
   "metadata": {},
   "source": [
    "As a reminder the dataframe clean_t1 is a one-hot encoding of the following features: points, price, region_1, variety:"
   ]
  },
  {
   "cell_type": "code",
   "execution_count": 30,
   "metadata": {},
   "outputs": [
    {
     "data": {
      "text/html": [
       "<div>\n",
       "<style scoped>\n",
       "    .dataframe tbody tr th:only-of-type {\n",
       "        vertical-align: middle;\n",
       "    }\n",
       "\n",
       "    .dataframe tbody tr th {\n",
       "        vertical-align: top;\n",
       "    }\n",
       "\n",
       "    .dataframe thead th {\n",
       "        text-align: right;\n",
       "    }\n",
       "</style>\n",
       "<table border=\"1\" class=\"dataframe\">\n",
       "  <thead>\n",
       "    <tr style=\"text-align: right;\">\n",
       "      <th></th>\n",
       "      <th>points</th>\n",
       "      <th>price</th>\n",
       "      <th>province_Arizona</th>\n",
       "      <th>province_California</th>\n",
       "      <th>province_Colorado</th>\n",
       "      <th>province_Connecticut</th>\n",
       "      <th>province_Hawaii</th>\n",
       "      <th>province_Idaho</th>\n",
       "      <th>province_Illinois</th>\n",
       "      <th>province_Iowa</th>\n",
       "      <th>...</th>\n",
       "      <th>variety_Vignoles</th>\n",
       "      <th>variety_Viognier</th>\n",
       "      <th>variety_Viognier-Chardonnay</th>\n",
       "      <th>variety_Viognier-Gewürztraminer</th>\n",
       "      <th>variety_Viognier-Roussanne</th>\n",
       "      <th>variety_White Blend</th>\n",
       "      <th>variety_White Port</th>\n",
       "      <th>variety_White Riesling</th>\n",
       "      <th>variety_Zinfandel</th>\n",
       "      <th>variety_Zweigelt</th>\n",
       "    </tr>\n",
       "  </thead>\n",
       "  <tbody>\n",
       "    <tr>\n",
       "      <th>3</th>\n",
       "      <td>87</td>\n",
       "      <td>13.0</td>\n",
       "      <td>0</td>\n",
       "      <td>0</td>\n",
       "      <td>0</td>\n",
       "      <td>0</td>\n",
       "      <td>0</td>\n",
       "      <td>0</td>\n",
       "      <td>0</td>\n",
       "      <td>0</td>\n",
       "      <td>...</td>\n",
       "      <td>0</td>\n",
       "      <td>0</td>\n",
       "      <td>0</td>\n",
       "      <td>0</td>\n",
       "      <td>0</td>\n",
       "      <td>0</td>\n",
       "      <td>0</td>\n",
       "      <td>0</td>\n",
       "      <td>0</td>\n",
       "      <td>0</td>\n",
       "    </tr>\n",
       "    <tr>\n",
       "      <th>4</th>\n",
       "      <td>87</td>\n",
       "      <td>65.0</td>\n",
       "      <td>0</td>\n",
       "      <td>0</td>\n",
       "      <td>0</td>\n",
       "      <td>0</td>\n",
       "      <td>0</td>\n",
       "      <td>0</td>\n",
       "      <td>0</td>\n",
       "      <td>0</td>\n",
       "      <td>...</td>\n",
       "      <td>0</td>\n",
       "      <td>0</td>\n",
       "      <td>0</td>\n",
       "      <td>0</td>\n",
       "      <td>0</td>\n",
       "      <td>0</td>\n",
       "      <td>0</td>\n",
       "      <td>0</td>\n",
       "      <td>0</td>\n",
       "      <td>0</td>\n",
       "    </tr>\n",
       "    <tr>\n",
       "      <th>10</th>\n",
       "      <td>87</td>\n",
       "      <td>19.0</td>\n",
       "      <td>0</td>\n",
       "      <td>1</td>\n",
       "      <td>0</td>\n",
       "      <td>0</td>\n",
       "      <td>0</td>\n",
       "      <td>0</td>\n",
       "      <td>0</td>\n",
       "      <td>0</td>\n",
       "      <td>...</td>\n",
       "      <td>0</td>\n",
       "      <td>0</td>\n",
       "      <td>0</td>\n",
       "      <td>0</td>\n",
       "      <td>0</td>\n",
       "      <td>0</td>\n",
       "      <td>0</td>\n",
       "      <td>0</td>\n",
       "      <td>0</td>\n",
       "      <td>0</td>\n",
       "    </tr>\n",
       "    <tr>\n",
       "      <th>20</th>\n",
       "      <td>87</td>\n",
       "      <td>23.0</td>\n",
       "      <td>0</td>\n",
       "      <td>0</td>\n",
       "      <td>0</td>\n",
       "      <td>0</td>\n",
       "      <td>0</td>\n",
       "      <td>0</td>\n",
       "      <td>0</td>\n",
       "      <td>0</td>\n",
       "      <td>...</td>\n",
       "      <td>0</td>\n",
       "      <td>0</td>\n",
       "      <td>0</td>\n",
       "      <td>0</td>\n",
       "      <td>0</td>\n",
       "      <td>0</td>\n",
       "      <td>0</td>\n",
       "      <td>0</td>\n",
       "      <td>0</td>\n",
       "      <td>0</td>\n",
       "    </tr>\n",
       "    <tr>\n",
       "      <th>23</th>\n",
       "      <td>87</td>\n",
       "      <td>22.0</td>\n",
       "      <td>0</td>\n",
       "      <td>1</td>\n",
       "      <td>0</td>\n",
       "      <td>0</td>\n",
       "      <td>0</td>\n",
       "      <td>0</td>\n",
       "      <td>0</td>\n",
       "      <td>0</td>\n",
       "      <td>...</td>\n",
       "      <td>0</td>\n",
       "      <td>0</td>\n",
       "      <td>0</td>\n",
       "      <td>0</td>\n",
       "      <td>0</td>\n",
       "      <td>0</td>\n",
       "      <td>0</td>\n",
       "      <td>0</td>\n",
       "      <td>0</td>\n",
       "      <td>0</td>\n",
       "    </tr>\n",
       "  </tbody>\n",
       "</table>\n",
       "<p>5 rows × 511 columns</p>\n",
       "</div>"
      ],
      "text/plain": [
       "    points  price  province_Arizona  province_California  province_Colorado  \\\n",
       "3       87   13.0                 0                    0                  0   \n",
       "4       87   65.0                 0                    0                  0   \n",
       "10      87   19.0                 0                    1                  0   \n",
       "20      87   23.0                 0                    0                  0   \n",
       "23      87   22.0                 0                    1                  0   \n",
       "\n",
       "    province_Connecticut  province_Hawaii  province_Idaho  province_Illinois  \\\n",
       "3                      0                0               0                  0   \n",
       "4                      0                0               0                  0   \n",
       "10                     0                0               0                  0   \n",
       "20                     0                0               0                  0   \n",
       "23                     0                0               0                  0   \n",
       "\n",
       "    province_Iowa  ...  variety_Vignoles  variety_Viognier  \\\n",
       "3               0  ...                 0                 0   \n",
       "4               0  ...                 0                 0   \n",
       "10              0  ...                 0                 0   \n",
       "20              0  ...                 0                 0   \n",
       "23              0  ...                 0                 0   \n",
       "\n",
       "    variety_Viognier-Chardonnay  variety_Viognier-Gewürztraminer  \\\n",
       "3                             0                                0   \n",
       "4                             0                                0   \n",
       "10                            0                                0   \n",
       "20                            0                                0   \n",
       "23                            0                                0   \n",
       "\n",
       "    variety_Viognier-Roussanne  variety_White Blend  variety_White Port  \\\n",
       "3                            0                    0                   0   \n",
       "4                            0                    0                   0   \n",
       "10                           0                    0                   0   \n",
       "20                           0                    0                   0   \n",
       "23                           0                    0                   0   \n",
       "\n",
       "    variety_White Riesling  variety_Zinfandel  variety_Zweigelt  \n",
       "3                        0                  0                 0  \n",
       "4                        0                  0                 0  \n",
       "10                       0                  0                 0  \n",
       "20                       0                  0                 0  \n",
       "23                       0                  0                 0  \n",
       "\n",
       "[5 rows x 511 columns]"
      ]
     },
     "execution_count": 30,
     "metadata": {},
     "output_type": "execute_result"
    }
   ],
   "source": [
    "clean_t1.head()"
   ]
  },
  {
   "cell_type": "code",
   "execution_count": 33,
   "metadata": {},
   "outputs": [
    {
     "data": {
      "text/plain": [
       "36558"
      ]
     },
     "execution_count": 33,
     "metadata": {},
     "output_type": "execute_result"
    }
   ],
   "source": [
    "len(clean_t1)"
   ]
  },
  {
   "cell_type": "code",
   "execution_count": 32,
   "metadata": {},
   "outputs": [
    {
     "name": "stderr",
     "output_type": "stream",
     "text": [
      "/anaconda3/lib/python3.7/site-packages/sklearn/model_selection/_split.py:1978: FutureWarning: The default value of cv will change from 3 to 5 in version 0.22. Specify it explicitly to silence this warning.\n",
      "  warnings.warn(CV_WARNING, FutureWarning)\n"
     ]
    },
    {
     "name": "stdout",
     "output_type": "stream",
     "text": [
      "0.6735494454917417\n"
     ]
    }
   ],
   "source": [
    "tf = ['description', 'title']\n",
    "text_features = clean[tf]\n",
    "type(text_features)\n",
    "\n",
    "nontext_features = clean_t1\n",
    "type(nontext_features)\n",
    "\n",
    "both = pd.concat([text_features, nontext_features], axis=1)\n",
    "both = both.drop('points', axis=1)\n",
    "both.head()\n",
    "\n",
    "\n",
    "text_trainval, y_trainval = both, target\n",
    "\n",
    "text_train, text_val, y_train, y_val = train_test_split(\n",
    "    text_trainval, y_trainval, stratify=y_trainval, random_state=0)\n",
    "\n",
    "\n",
    "preprocessor = make_column_transformer(\n",
    "    (CountVectorizer(min_df=20, stop_words='english'), 'description'),\n",
    "    (CountVectorizer(min_df=20, stop_words='english'), 'title'))\n",
    "\n",
    "\n",
    "reg = Pipeline(steps=[('preprocessor', preprocessor),\n",
    "                      ('scaler', StandardScaler(with_mean=False)),\n",
    "                      ('regressor', Ridge(alpha=1000))])\n",
    "\n",
    "print(np.mean(cross_val_score(reg, text_train, y_train)))\n",
    "\n",
    "\n",
    "\n",
    "\n"
   ]
  },
  {
   "cell_type": "code",
   "execution_count": 36,
   "metadata": {},
   "outputs": [],
   "source": [
    "clean_t1.to_csv(\"./clean_wine2.csv\")"
   ]
  },
  {
   "cell_type": "code",
   "execution_count": null,
   "metadata": {},
   "outputs": [],
   "source": []
  }
 ],
 "metadata": {
  "kernelspec": {
   "display_name": "Python 3",
   "language": "python",
   "name": "python3"
  },
  "language_info": {
   "codemirror_mode": {
    "name": "ipython",
    "version": 3
   },
   "file_extension": ".py",
   "mimetype": "text/x-python",
   "name": "python",
   "nbconvert_exporter": "python",
   "pygments_lexer": "ipython3",
   "version": "3.7.5"
  }
 },
 "nbformat": 4,
 "nbformat_minor": 2
}
